{
  "nbformat": 4,
  "nbformat_minor": 0,
  "metadata": {
    "colab": {
      "provenance": [],
      "include_colab_link": true
    },
    "kernelspec": {
      "name": "python3",
      "display_name": "Python 3"
    },
    "language_info": {
      "name": "python"
    }
  },
  "cells": [
    {
      "cell_type": "markdown",
      "metadata": {
        "id": "view-in-github",
        "colab_type": "text"
      },
      "source": [
        "<a href=\"https://colab.research.google.com/github/HamzaNasiem/langgraph_projects/blob/main/langgraph_Tool_chatbot_new.ipynb\" target=\"_parent\"><img src=\"https://colab.research.google.com/assets/colab-badge.svg\" alt=\"Open In Colab\"/></a>"
      ]
    },
    {
      "cell_type": "code",
      "source": [
        "%%capture --no-stderr\n",
        "%pip install --quiet -U langchain_google_genai langchain_core langgraph tavily-python langchain_community langgraph-checkpoint-postgres"
      ],
      "metadata": {
        "id": "3P0GrGsX7y9A"
      },
      "execution_count": 77,
      "outputs": []
    },
    {
      "cell_type": "code",
      "execution_count": 78,
      "metadata": {
        "id": "v7Jn52C5658i"
      },
      "outputs": [],
      "source": [
        "import os\n",
        "from google.colab import userdata\n",
        "from langchain_community.tools.tavily_search import TavilySearchResults\n",
        "from langchain_google_genai import ChatGoogleGenerativeAI\n",
        "from langgraph.graph import MessagesState, START, StateGraph, END\n",
        "from langchain_core.messages import HumanMessage, SystemMessage,AnyMessage, RemoveMessage\n",
        "from langgraph.prebuilt import tools_condition, ToolNode\n",
        "from IPython.display import Image, display\n",
        "from langgraph.graph.state import CompiledStateGraph\n",
        "from langgraph.checkpoint.memory import MemorySaver\n",
        "from pydantic import BaseModel\n",
        "from langgraph.types import Command\n",
        "from typing import Literal\n",
        "from psycopg_pool import ConnectionPool\n",
        "from langgraph.checkpoint.postgres import PostgresSaver"
      ]
    },
    {
      "cell_type": "code",
      "source": [
        "gemini_api_key = userdata.get('GEMINI_API_KEY')\n",
        "# DB_URI = userdata.get('DB_URL')\n",
        "os.environ[\"TAVILY_API_KEY\"] = userdata.get(\"TAVILY_API_KEY\")\n",
        "os.environ[\"LANGCHAIN_API_KEY\"] = userdata.get('LANGCHAIN_API_KEY')\n",
        "os.environ[\"LANGCHAIN_TRACING_V2\"] = \"true\"\n",
        "os.environ[\"LANGCHAIN_PROJECT\"] = \"tool_summary_chatbot\""
      ],
      "metadata": {
        "id": "NnAAssne7yGs"
      },
      "execution_count": 79,
      "outputs": []
    },
    {
      "cell_type": "code",
      "source": [
        "# System message\n",
        "sys_msg = SystemMessage(\n",
        "    content=\"You are a helpful assistant tasked with web searching or providing information based on user queries. If a query requires external information, use the 'web_search' tool to find the answer.\"\n",
        ")"
      ],
      "metadata": {
        "id": "XlqaMxz69Btf"
      },
      "execution_count": 80,
      "outputs": []
    },
    {
      "cell_type": "code",
      "source": [
        "llm = ChatGoogleGenerativeAI(model=\"gemini-1.5-flash\", max_retries=2, api_key=gemini_api_key)\n",
        "tavily_tool = TavilySearchResults(max_results=2)"
      ],
      "metadata": {
        "id": "mj4YFrCz9XI4"
      },
      "execution_count": 81,
      "outputs": []
    },
    {
      "cell_type": "code",
      "source": [
        "# connection_kwargs = {\"autocommit\": True, \"prepare_threshold\": 0}\n",
        "# pool = ConnectionPool(conninfo=DB_URI, max_size=20, kwargs=connection_kwargs)\n",
        "# checkpointer = PostgresSaver(pool)\n",
        "# checkpointer.setup()\n"
      ],
      "metadata": {
        "id": "Omc0BSJKISGe"
      },
      "execution_count": 82,
      "outputs": []
    },
    {
      "cell_type": "code",
      "source": [
        "def web_search(query: str) -> str:\n",
        "    \"\"\"Performs a web search using the Tavily API.\n",
        "    Args:\n",
        "        query: The search query string.\n",
        "    Returns:\n",
        "        str: The top search results as a formatted string.\n",
        "        str: The summarized content of top search results.\n",
        "        str: The URL of the top search result.\n",
        "    \"\"\"\n",
        "    # print(f\"Web search invoked with query: {query}\")\n",
        "    results = tavily_tool.run(query)\n",
        "    # if not results:\n",
        "    #     print(\"No results found from Tavily.\")\n",
        "    #     return \"No results found.\"\n",
        "    # print(f\"Tavily results: {results}\")\n",
        "    return results\n"
      ],
      "metadata": {
        "id": "cYGr7ZSs9R5y"
      },
      "execution_count": 83,
      "outputs": []
    },
    {
      "cell_type": "code",
      "source": [
        "tools = [web_search]\n",
        "llm_with_tools = llm.bind_tools(tools)"
      ],
      "metadata": {
        "id": "t-DBeJVq9m3c"
      },
      "execution_count": 84,
      "outputs": []
    },
    {
      "cell_type": "code",
      "source": [
        "class State(MessagesState):\n",
        "    summary: str"
      ],
      "metadata": {
        "id": "nuMpLRvdWTUH"
      },
      "execution_count": 85,
      "outputs": []
    },
    {
      "cell_type": "code",
      "source": [
        "def chatbot(state: State):\n",
        "    summary = state.get(\"summary\", \"\")\n",
        "    if summary:\n",
        "        system_message = f\"Summary of conversation earlier: {summary}\"\n",
        "        messages = [SystemMessage(content=system_message)] + state[\"messages\"]\n",
        "    else:\n",
        "        messages = state[\"messages\"]\n",
        "    response = llm_with_tools.invoke([sys_msg] + state[\"messages\"])\n",
        "    return {\"messages\": response}"
      ],
      "metadata": {
        "id": "-XuV6P7D9GOi"
      },
      "execution_count": 86,
      "outputs": []
    },
    {
      "cell_type": "code",
      "source": [
        "def summarize_conversation(state: State):\n",
        "    print(f\"Messages before summarizing: {len(state['messages'])}\")\n",
        "    summary = state.get(\"summary\", \"\")\n",
        "    print(f\"Existing summary: {summary}\")\n",
        "\n",
        "    # Clearer summarization prompt\n",
        "    summary_message = (\n",
        "        f\"This is the conversation so far:\\n\\n{[msg.content for msg in state['messages']]}\\n\\n\"\n",
        "        \"Please summarize it in 2-3 sentences for context.\"\n",
        "    )\n",
        "\n",
        "    # Send messages for summarization\n",
        "    messages = state[\"messages\"] + [HumanMessage(content=summary_message)]\n",
        "    response = llm_with_tools.invoke([sys_msg] + messages)\n",
        "\n",
        "    # Debug the LLM response\n",
        "    print(f\"New summary: {response.content}\")\n",
        "\n",
        "    # Update the state with the new summary\n",
        "    new_summary = response.content.strip()\n",
        "    if new_summary:\n",
        "        state[\"summary\"] = new_summary\n",
        "\n",
        "    # Truncate the message history\n",
        "    retained_messages = state[\"messages\"][-4:]  # Retain last 4 messages for context\n",
        "    print(f\"Messages after truncation: {len(retained_messages)}\")\n",
        "    return {\"summary\": new_summary, \"messages\": retained_messages}"
      ],
      "metadata": {
        "id": "adgGlMi-OokK"
      },
      "execution_count": 88,
      "outputs": []
    },
    {
      "cell_type": "code",
      "source": [
        "def should_continue(state: State):\n",
        "    \"\"\"Return the next node to execute.\"\"\"\n",
        "    messages = state[\"messages\"]\n",
        "    print(f\"Messages Length: {len(messages)}\")  # Debugging\n",
        "    if len(messages) > 6:\n",
        "        return \"summarize_conversation\"\n",
        "    return END\n"
      ],
      "metadata": {
        "id": "eyeDycBahaZw"
      },
      "execution_count": 89,
      "outputs": []
    },
    {
      "cell_type": "code",
      "source": [
        "memory = MemorySaver()\n",
        "\n",
        "builder: StateGraph = StateGraph(State)\n",
        "\n",
        "builder.add_node(\"chatbot\", chatbot)\n",
        "builder.add_node(\"tools\", ToolNode(tools))\n",
        "builder.add_node(\"summarize_conversation\", summarize_conversation)\n",
        "\n",
        "builder.add_edge(START, \"chatbot\")\n",
        "builder.add_conditional_edges(\"chatbot\",tools_condition)\n",
        "builder.add_edge(\"tools\", \"chatbot\")\n",
        "builder.add_conditional_edges(\"chatbot\",should_continue)\n",
        "builder.add_edge(\"summarize_conversation\", END)\n",
        "\n",
        "react_graph: CompiledStateGraph = builder.compile(checkpointer=memory)\n"
      ],
      "metadata": {
        "id": "tfi1vmHp9ra_"
      },
      "execution_count": 90,
      "outputs": []
    },
    {
      "cell_type": "code",
      "source": [
        "display(Image(react_graph.get_graph().draw_mermaid_png()))"
      ],
      "metadata": {
        "colab": {
          "base_uri": "https://localhost:8080/",
          "height": 350
        },
        "id": "0ypedIHX91k6",
        "outputId": "c86e846e-dc86-42d0-f460-03beeba5dbf9"
      },
      "execution_count": 91,
      "outputs": [
        {
          "output_type": "display_data",
          "data": {
            "image/png": "[encoded data removed]",
            "text/plain": [
              "<IPython.core.display.Image object>"
            ]
          },
          "metadata": {}
        }
      ]
    },
    {
      "cell_type": "code",
      "source": [
        "# Create a thread\n",
        "config = {\"configurable\": {\"thread_id\": \"1\"}}\n",
        "\n",
        "# Start conversation\n",
        "input_message = HumanMessage(content=\"hi\")\n",
        "output = react_graph.invoke({\"messages\": [input_message]}, config)\n",
        "for m in output['messages'][-1:]:\n",
        "    m.pretty_print()\n",
        "input_message = HumanMessage(content=\"who are you\")\n",
        "output = react_graph.invoke({\"messages\": [input_message]}, config)\n",
        "for m in output['messages'][-1:]:\n",
        "    m.pretty_print()\n",
        "input_message = HumanMessage(content=\"my name is hamza\")\n",
        "output = react_graph.invoke({\"messages\": [input_message]}, config)\n",
        "for m in output['messages'][-1:]:\n",
        "    m.pretty_print()\n",
        "input_message = HumanMessage(content=\"tell me about your self\")\n",
        "output = react_graph.invoke({\"messages\": [input_message]}, config)\n",
        "for m in output['messages'][-1:]:\n",
        "    m.pretty_print()"
      ],
      "metadata": {
        "colab": {
          "base_uri": "https://localhost:8080/"
        },
        "id": "PCRlhvl5Mh3V",
        "outputId": "9654e269-b737-416d-dfe4-f4fc80a4b7c2"
      },
      "execution_count": 92,
      "outputs": [
        {
          "output_type": "stream",
          "name": "stdout",
          "text": [
            "Messages Length: 24\n",
            "Messages before summarizing: 24\n",
            "Existing summary: The conversation begins with introductions and requests for self-descriptions, where I identify myself as Gemini, a Google-trained large language model.  Hamza introduces himself, and the conversation concludes with a question about the weather in Karachi, which I'm unable to answer due to my lack of real-time data access.  The overall theme is establishing my identity and limitations.\n",
            "New summary: The conversation begins with introductions and questions about the AI's identity (Gemini, a Google-trained large language model).  Hamza introduces himself, and the AI repeatedly explains its capabilities and limitations, including its lack of access to real-time information like weather.  Finally, the user asks for the weather in Karachi, highlighting the AI's inability to provide that data.\n",
            "\n",
            "Messages after truncation: 4\n",
            "==================================\u001b[1m Ai Message \u001b[0m==================================\n",
            "\n",
            "Hi there!  How can I help you?\n",
            "Messages Length: 26\n",
            "Messages before summarizing: 26\n",
            "Existing summary: The conversation begins with introductions and questions about the AI's identity (Gemini, a Google-trained large language model).  Hamza introduces himself, and the AI repeatedly explains its capabilities and limitations, including its lack of access to real-time information like weather.  Finally, the user asks for the weather in Karachi, highlighting the AI's inability to provide that data.\n",
            "New summary: The conversation begins with introductions and questions about my identity as Gemini, a Google-trained large language model.  Repeatedly, the user asks for self-description, receiving increasingly detailed explanations of my capabilities and limitations.  Finally, the user asks about the weather in Karachi, highlighting my inability to access real-time data.\n",
            "\n",
            "Messages after truncation: 4\n",
            "==================================\u001b[1m Ai Message \u001b[0m==================================\n",
            "\n",
            "I am Gemini, a large language model created by Google.\n",
            "Messages Length: 28\n",
            "Messages before summarizing: 28\n",
            "Existing summary: The conversation begins with introductions and questions about my identity as Gemini, a Google-trained large language model.  Repeatedly, the user asks for self-description, receiving increasingly detailed explanations of my capabilities and limitations.  Finally, the user asks about the weather in Karachi, highlighting my inability to access real-time data.\n",
            "New summary: The conversation is between a user named Hamza and Gemini, a large language model.  Hamza repeatedly asks Gemini to identify itself, and Gemini consistently responds that it's a Google-created language model.  The conversation also includes pleasantries and a request for weather information (which Gemini cannot provide).\n",
            "\n",
            "Messages after truncation: 4\n",
            "==================================\u001b[1m Ai Message \u001b[0m==================================\n",
            "\n",
            "It's nice to meet you, Hamza.  How can I help you today?\n",
            "Messages Length: 30\n",
            "Messages before summarizing: 30\n",
            "Existing summary: The conversation is between a user named Hamza and Gemini, a large language model.  Hamza repeatedly asks Gemini to identify itself, and Gemini consistently responds that it's a Google-created language model.  The conversation also includes pleasantries and a request for weather information (which Gemini cannot provide).\n",
            "New summary: The conversation is between a user named Hamza and Gemini, a Google-trained large language model.  Hamza repeatedly asks Gemini to introduce itself, receiving slightly varied but consistent responses describing Gemini's capabilities and limitations as a language model.  The conversation also includes a request for Karachi's weather, which Gemini cannot fulfill due to lack of real-time data access.\n",
            "\n",
            "Messages after truncation: 4\n",
            "==================================\u001b[1m Ai Message \u001b[0m==================================\n",
            "\n",
            "I am Gemini, a large language model trained by Google.  I can process information and respond in a way that mimics human conversation.  I can answer your questions, translate languages, write different kinds of creative content, and summarize factual topics.  My knowledge is based on the massive dataset I was trained on, and I don't have personal experiences, opinions, or feelings.  My knowledge cutoff is a specific point in time, so I may not be aware of very recent events.\n"
          ]
        }
      ]
    },
    {
      "cell_type": "code",
      "source": [
        "react_graph.get_state(config).values.get(\"summary\",\"\")\n"
      ],
      "metadata": {
        "colab": {
          "base_uri": "https://localhost:8080/",
          "height": 70
        },
        "id": "_Sj7fX8SPWZU",
        "outputId": "e5dd4335-4824-4730-9e7b-b80f390b4714"
      },
      "execution_count": 94,
      "outputs": [
        {
          "output_type": "execute_result",
          "data": {
            "text/plain": [
              "\"The conversation is between a user named Hamza and Gemini, a Google-trained large language model.  Hamza repeatedly asks Gemini to introduce itself, receiving slightly varied but consistent responses describing Gemini's capabilities and limitations as a language model.  The conversation also includes a request for Karachi's weather, which Gemini cannot fulfill due to lack of real-time data access.\""
            ],
            "application/vnd.google.colaboratory.intrinsic+json": {
              "type": "string"
            }
          },
          "metadata": {},
          "execution_count": 94
        }
      ]
    }
  ]
}