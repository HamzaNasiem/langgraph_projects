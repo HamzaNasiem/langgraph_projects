{
  "nbformat": 4,
  "nbformat_minor": 0,
  "metadata": {
    "colab": {
      "provenance": [],
      "include_colab_link": true
    },
    "kernelspec": {
      "name": "python3",
      "display_name": "Python 3"
    },
    "language_info": {
      "name": "python"
    }
  },
  "cells": [
    {
      "cell_type": "markdown",
      "metadata": {
        "id": "view-in-github",
        "colab_type": "text"
      },
      "source": [
        "<a href=\"https://colab.research.google.com/github/HamzaNasiem/langgraph_projects/blob/main/chat_7_1_2025.ipynb\" target=\"_parent\"><img src=\"https://colab.research.google.com/assets/colab-badge.svg\" alt=\"Open In Colab\"/></a>"
      ]
    },
    {
      "cell_type": "code",
      "source": [
        "%%capture --no-stderr\n",
        "%pip install --quiet -U langchain_google_genai langchain_core langgraph tavily-python wikipedia langchain_community langgraph-checkpoint-postgres langgraph_sdk"
      ],
      "metadata": {
        "id": "3P0GrGsX7y9A"
      },
      "execution_count": 94,
      "outputs": []
    },
    {
      "cell_type": "code",
      "execution_count": 95,
      "metadata": {
        "id": "v7Jn52C5658i"
      },
      "outputs": [],
      "source": [
        "import os\n",
        "from google.colab import userdata\n",
        "from langchain_community.tools.tavily_search import TavilySearchResults\n",
        "from langchain_google_genai import ChatGoogleGenerativeAI\n",
        "from langchain_community.document_loaders import WikipediaLoader\n",
        "from langgraph.graph import MessagesState, START, StateGraph, END, add_messages\n",
        "from langchain_core.messages import HumanMessage, SystemMessage,AnyMessage, RemoveMessage\n",
        "from langgraph.prebuilt import tools_condition, ToolNode\n",
        "from IPython.display import Image, display\n",
        "from langgraph.graph.state import CompiledStateGraph\n",
        "from langgraph.checkpoint.memory import MemorySaver\n",
        "from pydantic import BaseModel\n",
        "from langgraph.types import Command\n",
        "from typing import Literal, Annotated\n",
        "from psycopg_pool import ConnectionPool\n",
        "from langgraph.checkpoint.postgres import PostgresSaver\n",
        "from langchain_core.runnables import RunnableConfig\n",
        "from langgraph_sdk import get_client"
      ]
    },
    {
      "cell_type": "code",
      "source": [
        "gemini_api_key = userdata.get('GEMINI_API_KEY')\n",
        "DB_URI = userdata.get('DB_URL')\n",
        "os.environ[\"TAVILY_API_KEY\"] = userdata.get(\"TAVILY_API_KEY\")\n",
        "os.environ[\"LANGCHAIN_API_KEY\"] = userdata.get('LANGCHAIN_API_KEY')\n",
        "os.environ[\"LANGCHAIN_TRACING_V2\"] = \"true\"\n",
        "os.environ[\"LANGCHAIN_PROJECT\"] = \"tool_summary_chatbot\""
      ],
      "metadata": {
        "id": "NnAAssne7yGs"
      },
      "execution_count": 96,
      "outputs": []
    },
    {
      "cell_type": "code",
      "source": [
        "sys_msg = SystemMessage(\n",
        "    content=(\n",
        "        \"You are a smart assistant with access to tools. Follow these rules carefully:\\n\\n\"\n",
        "        \"### Tools Available:\\n\"\n",
        "        \"1. **web_search** - Use this to search the internet for real-time or web-based information. Examples:\\n\"\n",
        "        \"   - 'What is the current weather in Karachi?'\\n\"\n",
        "        \"   - 'Find the latest news about artificial intelligence.'\\n\\n\"\n",
        "        \"2. **search_wikipedia** - Use this to fetch general knowledge from Wikipedia. Examples:\\n\"\n",
        "        \"   - 'Who is Albert Einstein?'\\n\"\n",
        "        \"   - 'Explain quantum physics.'\\n\\n\"\n",
        "        \"### How to Decide:\\n\"\n",
        "        \"- If the user query needs factual or detailed answers from the web or Wikipedia, call the relevant tool.\\n\"\n",
        "        \"- For simple conversational or generic queries (like jokes or opinions), respond directly.\\n\\n\"\n",
        "        \"### Examples of Behavior:\\n\"\n",
        "        \"- Query: 'What is the capital of France?' -> Call **search_wikipedia**.\\n\"\n",
        "        \"- Query: 'Tell me a joke.' -> Respond directly.\\n\"\n",
        "        \"- Query: 'What is the price of Bitcoin?' -> Call **web_search**.\\n\\n\"\n",
        "        \"You MUST decide based on the query and provide a helpful, accurate response.\"\n",
        "    )\n",
        ")\n"
      ],
      "metadata": {
        "id": "XlqaMxz69Btf"
      },
      "execution_count": 123,
      "outputs": []
    },
    {
      "cell_type": "code",
      "source": [
        "llm = ChatGoogleGenerativeAI(model=\"gemini-1.5-flash\", max_retries=2, api_key=gemini_api_key)\n",
        "tavily_tool = TavilySearchResults(max_results=2)"
      ],
      "metadata": {
        "id": "mj4YFrCz9XI4"
      },
      "execution_count": 124,
      "outputs": []
    },
    {
      "cell_type": "code",
      "source": [
        "connection_kwargs = {\"autocommit\": True, \"prepare_threshold\": 0}\n",
        "pool = ConnectionPool(conninfo=DB_URI, max_size=20, kwargs=connection_kwargs)\n",
        "checkpointer = PostgresSaver(pool)\n",
        "checkpointer.setup()\n"
      ],
      "metadata": {
        "id": "Omc0BSJKISGe"
      },
      "execution_count": 99,
      "outputs": []
    },
    {
      "cell_type": "code",
      "source": [
        "class State(MessagesState):\n",
        "    summary: str"
      ],
      "metadata": {
        "id": "fKxuSkIoLRUf"
      },
      "execution_count": 126,
      "outputs": []
    },
    {
      "cell_type": "code",
      "source": [
        "def web_search(query: str) -> str:\n",
        "    \"\"\"\n",
        "    Tool Name: web_search\n",
        "\n",
        "    Description:\n",
        "        Performs a web search using the Tavily API to retrieve real-time or web-based information.\n",
        "        This tool is ideal for queries that require the latest updates, current events, or dynamic information not found in static knowledge bases.\n",
        "\n",
        "    When to Use:\n",
        "        - Queries related to real-time information (e.g., \"latest news about AI\").\n",
        "        - Questions about live or dynamic data (e.g., \"current weather in Karachi\").\n",
        "        - General web searches for diverse topics (e.g., \"top movies of 2025\").\n",
        "\n",
        "    Args:\n",
        "        query (str): A string containing the search query from the user.\n",
        "\n",
        "    Returns:\n",
        "        str:\n",
        "            - A formatted string containing the top search results, including URLs and summarized content.\n",
        "            - Returns \"No results found\" if the search does not yield any results.\n",
        "\n",
        "    Example:\n",
        "        >>> web_search(\"latest technology news\")\n",
        "        '1. AI breakthroughs: https://example.com\\n2. Quantum computing updates: https://example.org'\n",
        "    \"\"\"\n",
        "    try:\n",
        "        print(f\"Web search invoked with query: {query}\")\n",
        "        results = tavily_tool.run(query)\n",
        "\n",
        "        if not results:\n",
        "            print(\"No results found from Tavily.\")\n",
        "            return \"No results found.\"\n",
        "\n",
        "        formatted_search_docs = \"\\n\\n---\\n\\n\".join(\n",
        "            [\n",
        "                f'<Document href=\"{doc[\"url\"]}\"/>\\n{doc[\"content\"]}\\n</Document>'\n",
        "                for doc in results\n",
        "            ]\n",
        "        )\n",
        "\n",
        "        return formatted_search_docs\n",
        "    except Exception as e:\n",
        "        print(f\"Error during web search: {e}\")\n",
        "        return \"An error occurred while processing your request.\"\n"
      ],
      "metadata": {
        "id": "cYGr7ZSs9R5y"
      },
      "execution_count": 147,
      "outputs": []
    },
    {
      "cell_type": "code",
      "source": [
        "def search_wikipedia(query: str) -> str:\n",
        "    \"\"\"\n",
        "    Tool Name: search_wikipedia\n",
        "\n",
        "    Description:\n",
        "        Fetches summarized and structured content from Wikipedia based on the user's query.\n",
        "        This tool is suitable for retrieving static, encyclopedic knowledge or in-depth explanations of topics.\n",
        "\n",
        "    When to Use:\n",
        "        - Queries seeking historical, scientific, or encyclopedic information (e.g., \"Who is Albert Einstein?\").\n",
        "        - Questions about general knowledge topics (e.g., \"Explain the causes of World War II\").\n",
        "        - Detailed explanations of theories or concepts (e.g., \"What is quantum mechanics?\").\n",
        "\n",
        "    Args:\n",
        "        query (str): A string containing the search query provided by the user.\n",
        "\n",
        "    Returns:\n",
        "        str:\n",
        "            - A formatted string with summarized Wikipedia content, including metadata such as source links and page numbers.\n",
        "            - Returns an empty string if no content is found.\n",
        "\n",
        "    Example:\n",
        "        >>> search_wikipedia(\"Theory of Relativity\")\n",
        "        '<Document source=\"https://en.wikipedia.org/wiki/Theory_of_relativity\" page=\"1\"/>\\nThe theory of relativity, developed by Albert Einstein, revolutionized physics.\\n</Document>'\n",
        "    \"\"\"\n",
        "    search_docs = WikipediaLoader(query=query, load_max_docs=2).load()\n",
        "\n",
        "    if not search_docs:\n",
        "        print(\"No Wikipedia content found.\")\n",
        "        return \"\"\n",
        "\n",
        "    formatted_search_docs = \"\\n\\n---\\n\\n\".join(\n",
        "        [\n",
        "            f'<Document source=\"{doc.metadata[\"source\"]}\" page=\"{doc.metadata.get(\"page\", \"\")}\"/>\\n{doc.page_content}\\n</Document>'\n",
        "            for doc in search_docs\n",
        "        ]\n",
        "    )\n",
        "\n",
        "    print(f\"Wikipedia results: {formatted_search_docs}\")\n",
        "    return formatted_search_docs\n"
      ],
      "metadata": {
        "id": "8KcuFizEzOq6"
      },
      "execution_count": 148,
      "outputs": []
    },
    {
      "cell_type": "code",
      "source": [
        "tools = [web_search, search_wikipedia]\n",
        "llm_with_tools = llm.bind_tools(tools)"
      ],
      "metadata": {
        "id": "t-DBeJVq9m3c"
      },
      "execution_count": 149,
      "outputs": []
    },
    {
      "cell_type": "code",
      "source": [
        "def human_feedback(state: State):\n",
        "    pass"
      ],
      "metadata": {
        "id": "q9UcMtWgOM5F"
      },
      "execution_count": 150,
      "outputs": []
    },
    {
      "cell_type": "code",
      "source": [
        "def assistant(state: State, config: RunnableConfig):\n",
        "    \"\"\"\n",
        "    Tool Node: assistant\n",
        "\n",
        "    Description:\n",
        "        Handles user messages and determines the next action:\n",
        "        - Calls a tool (e.g., web search, Wikipedia search) if necessary.\n",
        "        - Directly responds to the user when no tool is required.\n",
        "        - Prepends a conversation summary to provide context for the LLM when applicable.\n",
        "\n",
        "    When to Use:\n",
        "        This node is the main decision-making function in the conversation flow.\n",
        "        It ensures that user queries are appropriately handled, either by calling tools or providing direct responses.\n",
        "\n",
        "    Args:\n",
        "        state (MessagesState):\n",
        "            - Tracks the entire conversation's state, including past messages and any saved summaries.\n",
        "            - Used to retrieve current context for response generation.\n",
        "        config (RunnableConfig):\n",
        "            - Configuration options for the language model.\n",
        "            - Includes runtime parameters, system messages, and tool integrations.\n",
        "\n",
        "    Returns:\n",
        "        dict: A dictionary containing updated messages:\n",
        "            - {\"messages\": [...]} — Updated state of the conversation, including the LLM's response or tool outputs.\n",
        "\n",
        "    Example Flow:\n",
        "        1. User query: \"What is the weather in Karachi today?\"\n",
        "        2. assistant function decides to call the web_search tool.\n",
        "        3. Web search results are retrieved and added to the conversation as messages.\n",
        "    \"\"\"\n",
        "    summary = state.get(\"summary\", \"\")\n",
        "    if summary:\n",
        "        system_message = f\"Summary of conversation earlier: {summary}\"\n",
        "        messages = [SystemMessage(content=system_message)] + state[\"messages\"]\n",
        "    else:\n",
        "        messages = state[\"messages\"]\n",
        "    response = llm_with_tools.invoke([sys_msg] + state[\"messages\"], config)\n",
        "    return {\"messages\": response}"
      ],
      "metadata": {
        "id": "-XuV6P7D9GOi"
      },
      "execution_count": 151,
      "outputs": []
    },
    {
      "cell_type": "code",
      "source": [
        "def summarize_conversation(state: State):\n",
        "    print(f\"Messages before summarizing: {len(state['messages'])}\")\n",
        "    summary = state.get(\"summary\", \"\")\n",
        "    print(f\"Existing summary: {summary}\")\n",
        "\n",
        "    # Clearer summarization prompt\n",
        "    summary_message = (\n",
        "        f\"This is the conversation so far:\\n\\n{[msg.content for msg in state['messages']]}\\n\\n\"\n",
        "        \"Please summarize it in 2-3 sentences for context.\"\n",
        "    )\n",
        "\n",
        "    # Send messages for summarization\n",
        "    messages = state[\"messages\"] + [HumanMessage(content=summary_message)]\n",
        "    response = llm_with_tools.invoke([sys_msg] + messages)\n",
        "\n",
        "    # Debug the LLM response\n",
        "    print(f\"New summary: {response.content}\")\n",
        "\n",
        "    # Update the state with the new summary\n",
        "    new_summary = response.content.strip()\n",
        "    if new_summary:\n",
        "        state[\"summary\"] = new_summary\n",
        "\n",
        "    # Truncate the message history\n",
        "    retained_messages = state[\"messages\"][-4:]  # Retain last 4 messages for context\n",
        "    print(f\"Messages after truncation: {len(retained_messages)}\")\n",
        "    return {\"summary\": new_summary, \"messages\": retained_messages}"
      ],
      "metadata": {
        "id": "adgGlMi-OokK"
      },
      "execution_count": 152,
      "outputs": []
    },
    {
      "cell_type": "code",
      "source": [
        "def should_continue(state: State):\n",
        "    \"\"\"Return the next node to execute.\"\"\"\n",
        "    messages = state[\"messages\"]\n",
        "    print(f\"Messages Length: {len(messages)}\")  # Debugging\n",
        "    if len(messages) > 6:\n",
        "        return \"summarize_conversation\"\n",
        "    return END\n"
      ],
      "metadata": {
        "id": "eyeDycBahaZw"
      },
      "execution_count": 153,
      "outputs": []
    },
    {
      "cell_type": "code",
      "source": [
        "memory = MemorySaver()\n",
        "\n",
        "builder: StateGraph = StateGraph(State)\n",
        "\n",
        "builder.add_node(\"assistant\", assistant)\n",
        "builder.add_node(\"tools\", ToolNode(tools))\n",
        "builder.add_node(\"summarize_conversation\", summarize_conversation)\n",
        "# builder.add_node(\"human_feedback\", human_feedback)\n",
        "\n",
        "builder.add_edge(START, \"assistant\")\n",
        "builder.add_conditional_edges(\"assistant\",tools_condition)\n",
        "builder.add_edge(\"tools\", \"assistant\")\n",
        "builder.add_conditional_edges(\"assistant\",should_continue)\n",
        "builder.add_edge(\"summarize_conversation\", END)\n",
        "\n",
        "react_graph: CompiledStateGraph = builder.compile(\n",
        "    interrupt_before=[\"tools\"],\n",
        "    checkpointer=memory\n",
        "    )\n"
      ],
      "metadata": {
        "id": "tfi1vmHp9ra_"
      },
      "execution_count": 159,
      "outputs": []
    },
    {
      "cell_type": "code",
      "source": [
        "display(Image(react_graph.get_graph().draw_mermaid_png()))"
      ],
      "metadata": {
        "colab": {
          "base_uri": "https://localhost:8080/",
          "height": 392
        },
        "id": "0ypedIHX91k6",
        "outputId": "f2f7cddb-4ad2-4d13-8096-29b32cea2df9"
      },
      "execution_count": 160,
      "outputs": [
        {
          "output_type": "display_data",
          "data": {
            "image/png": "[encoded data removed]",
            "text/plain": [
              "<IPython.core.display.Image object>"
            ]
          },
          "metadata": {}
        }
      ]
    },
    {
      "cell_type": "code",
      "source": [
        "# Create a thread\n",
        "config = {\"configurable\": {\"thread_id\": \"2222\"}}\n",
        "\n",
        "# Start conversation\n",
        "input_message = input(\"user query: \")\n",
        "for event in react_graph.stream({\"messages\": [input_message]}, config,  stream_mode=\"values\"):\n",
        "  event['messages'][-1].pretty_print()\n",
        "\n"
      ],
      "metadata": {
        "id": "PCRlhvl5Mh3V"
      },
      "execution_count": 165,
      "outputs": []
    },
    {
      "cell_type": "code",
      "source": [
        "user_approval = input(\"Do you want to continue? (yes/no): \")\n",
        "\n",
        "if user_approval.lower() == \"yes\":\n",
        "    for event in react_graph.stream(None, config,  stream_mode=\"values\"):\n",
        "      event['messages'][-1].pretty_print()\n",
        "else:\n",
        "    print(\"Conversation stopped.\")"
      ],
      "metadata": {
        "id": "5XwPi6FwrvGd"
      },
      "execution_count": 165,
      "outputs": []
    },
    {
      "cell_type": "code",
      "source": [],
      "metadata": {
        "id": "G0Ib9_zRC5qf"
      },
      "execution_count": 111,
      "outputs": []
    }
  ]
}